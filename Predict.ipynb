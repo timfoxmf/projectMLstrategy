{
 "cells": [
  {
   "cell_type": "code",
   "execution_count": 1,
   "metadata": {
    "collapsed": true
   },
   "outputs": [],
   "source": [
    "import tensorflow as tf\n",
    "from sklearn import metrics, cross_validation\n",
    "import pandas as pd\n",
    "import numpy as np\n",
    "from numpy import genfromtxt"
   ]
  },
  {
   "cell_type": "code",
   "execution_count": 2,
   "metadata": {
    "collapsed": false
   },
   "outputs": [],
   "source": [
    "X_data = pd.read_csv('EURUSD15.csv', sep=',', names=['Time', 'Open', 'Max', 'Min', 'Close', 'Value'])"
   ]
  },
  {
   "cell_type": "code",
   "execution_count": 3,
   "metadata": {
    "collapsed": false
   },
   "outputs": [],
   "source": [
    "ii = 0\n",
    "y = []\n",
    "for i in X_data.Open:\n",
    "    if (X_data['Close'].values[ii] > i):\n",
    "        y.append(1)\n",
    "    else:\n",
    "        y.append(0)\n",
    "    ii+=1\n"
   ]
  },
  {
   "cell_type": "code",
   "execution_count": 4,
   "metadata": {
    "collapsed": false
   },
   "outputs": [],
   "source": [
    "def to_vector(y,clas =  2):\n",
    "    num_labels = len(y)\n",
    "    index_off = np.arange(num_labels)*2\n",
    "    labels_one_hot = np.zeros((num_labels, clas))\n",
    "    labels_one_hot.flat[index_off + y] = 1\n",
    "    return labels_one_hot\n",
    "del X_data['Time']"
   ]
  },
  {
   "cell_type": "code",
   "execution_count": 5,
   "metadata": {
    "collapsed": false
   },
   "outputs": [
    {
     "data": {
      "text/plain": [
       "array([[ 0.,  1.],\n",
       "       [ 1.,  0.],\n",
       "       [ 0.,  1.],\n",
       "       ..., \n",
       "       [ 1.,  0.],\n",
       "       [ 1.,  0.],\n",
       "       [ 0.,  1.]])"
      ]
     },
     "execution_count": 5,
     "metadata": {},
     "output_type": "execute_result"
    }
   ],
   "source": [
    "y_one_hot = to_vector(y, 2)\n",
    "X_train, X_test, y_train, y_test = cross_validation.train_test_split(X_data.values, y_one_hot, test_size=0.2, random_state=42)\n",
    "y_one_hot"
   ]
  },
  {
   "cell_type": "code",
   "execution_count": 6,
   "metadata": {
    "collapsed": false
   },
   "outputs": [],
   "source": [
    "# Parameters\n",
    "learning_rate = 0.05\n",
    "batch_size = 150\n",
    "display_step = 1\n",
    "\n",
    "# Network Parameters\n",
    "n_hidden_1 = 50 # 1st layer number of features\n",
    "n_hidden_2 = 20 # 2nd layer number of features\n",
    "n_input = 5 # data\n",
    "n_classes = 2 #total classes (0-1 digits)"
   ]
  },
  {
   "cell_type": "code",
   "execution_count": 7,
   "metadata": {
    "collapsed": true
   },
   "outputs": [],
   "source": [
    "# tf Graph input\n",
    "x = tf.placeholder(\"float\", [None, n_input])\n",
    "y = tf.placeholder(\"float\", [None, n_classes])"
   ]
  },
  {
   "cell_type": "code",
   "execution_count": 8,
   "metadata": {
    "collapsed": true
   },
   "outputs": [],
   "source": [
    "# Create model\n",
    "def multilayer_perceptron(x, weights, biases):\n",
    "    # Hidden layer with RELU activation\n",
    "    layer_1 = tf.add(tf.matmul(x, weights['h1']), biases['b1'])\n",
    "    layer_1 = tf.nn.relu(layer_1)\n",
    "    # Hidden layer with RELU activation\n",
    "    layer_2 = tf.add(tf.matmul(layer_1, weights['h2']), biases['b2'])\n",
    "    layer_2 = tf.nn.relu(layer_2)\n",
    "    # Output layer with linear activation\n",
    "    out_layer = tf.matmul(layer_2, weights['out']) + biases['out']\n",
    "    return out_layer"
   ]
  },
  {
   "cell_type": "code",
   "execution_count": 9,
   "metadata": {
    "collapsed": true
   },
   "outputs": [],
   "source": [
    "# Store layers weight & bias\n",
    "weights = {\n",
    "    'h1': tf.Variable(tf.random_normal([n_input, n_hidden_1])),\n",
    "    'h2': tf.Variable(tf.random_normal([n_hidden_1, n_hidden_2])),\n",
    "    'out': tf.Variable(tf.random_normal([n_hidden_2, n_classes]))\n",
    "}\n",
    "biases = {\n",
    "    'b1': tf.Variable(tf.random_normal([n_hidden_1])),\n",
    "    'b2': tf.Variable(tf.random_normal([n_hidden_2])),\n",
    "    'out': tf.Variable(tf.random_normal([n_classes]))\n",
    "}\n",
    "\n",
    "\n",
    "# Construct model\n",
    "pred = multilayer_perceptron(x, weights, biases)\n",
    "\n",
    "# Define loss and optimizer\n",
    "n_samples = list(X_train.shape)\n",
    "cost = tf.reduce_mean(tf.nn.softmax_cross_entropy_with_logits(pred, y))\n",
    "optimizer = tf.train.AdamOptimizer(learning_rate=learning_rate).minimize(cost)"
   ]
  },
  {
   "cell_type": "code",
   "execution_count": 10,
   "metadata": {
    "collapsed": true
   },
   "outputs": [],
   "source": [
    "sess = tf.Session()\n",
    "init = tf.initialize_all_variables()\n",
    "sess.run(init)"
   ]
  },
  {
   "cell_type": "code",
   "execution_count": 11,
   "metadata": {
    "collapsed": false,
    "scrolled": true
   },
   "outputs": [
    {
     "name": "stdout",
     "output_type": "stream",
     "text": [
      "('Epoch:', '0001', 'cost', '82446.598791897')\n",
      "('Epoch:', '0002', 'cost', '662.014433980')\n",
      "('Epoch:', '0003', 'cost', '239.803106010')\n",
      "('Epoch:', '0004', 'cost', '239.814270973')\n",
      "('Epoch:', '0005', 'cost', '239.824503839')\n",
      "('Epoch:', '0006', 'cost', '239.833875120')\n",
      "('Epoch:', '0007', 'cost', '239.843899548')\n",
      "('Epoch:', '0008', 'cost', '239.856371880')\n",
      "('Epoch:', '0009', 'cost', '239.872519672')\n",
      "('Epoch:', '0010', 'cost', '239.892417312')\n",
      "('Epoch:', '0011', 'cost', '239.914475620')\n",
      "('Epoch:', '0012', 'cost', '239.936218441')\n",
      "('Epoch:', '0013', 'cost', '239.955777884')\n",
      "('Epoch:', '0014', 'cost', '239.972387314')\n",
      "('Epoch:', '0015', 'cost', '239.985823870')\n",
      "('Epoch:', '0016', 'cost', '239.996176600')\n",
      "('Epoch:', '0017', 'cost', '240.003803194')\n",
      "('Epoch:', '0018', 'cost', '240.009245396')\n",
      "('Epoch:', '0019', 'cost', '240.013026953')\n",
      "('Epoch:', '0020', 'cost', '240.015617192')\n",
      "('Epoch:', '0021', 'cost', '240.017386496')\n",
      "('Epoch:', '0022', 'cost', '240.018574238')\n",
      "('Epoch:', '0023', 'cost', '240.019377410')\n",
      "('Epoch:', '0024', 'cost', '240.019916058')\n",
      "('Epoch:', '0025', 'cost', '240.020279646')\n",
      "('Epoch:', '0026', 'cost', '240.020524442')\n",
      "('Epoch:', '0027', 'cost', '240.020686507')\n",
      "('Epoch:', '0028', 'cost', '240.020795345')\n",
      "('Epoch:', '0029', 'cost', '240.020866573')\n",
      "('Epoch:', '0030', 'cost', '240.020917654')\n",
      "('Epoch:', '0031', 'cost', '240.020953178')\n",
      "('Epoch:', '0032', 'cost', '240.020975947')\n",
      "('Epoch:', '0033', 'cost', '240.020993352')\n",
      "('Epoch:', '0034', 'cost', '240.020997107')\n",
      "('Epoch:', '0035', 'cost', '240.020999849')\n",
      "('Epoch:', '0036', 'cost', '240.021008253')\n",
      "('Epoch:', '0037', 'cost', '240.021013439')\n",
      "('Epoch:', '0038', 'cost', '240.021011174')\n",
      "('Epoch:', '0039', 'cost', '240.021012008')\n",
      "('Epoch:', '0040', 'cost', '240.021014273')\n",
      "('Epoch:', '0041', 'cost', '240.021017253')\n",
      "('Epoch:', '0042', 'cost', '240.021022320')\n",
      "('Epoch:', '0043', 'cost', '240.021023035')\n",
      "('Epoch:', '0044', 'cost', '240.021022499')\n",
      "('Epoch:', '0045', 'cost', '240.021021843')\n",
      "('Epoch:', '0046', 'cost', '240.021020055')\n",
      "('Epoch:', '0047', 'cost', '240.021021724')\n",
      "('Epoch:', '0048', 'cost', '240.021023929')\n",
      "('Epoch:', '0049', 'cost', '240.021024108')\n",
      "('Epoch:', '0050', 'cost', '240.021023273')\n",
      "('Epoch:', '0051', 'cost', '240.021022379')\n",
      "('Epoch:', '0052', 'cost', '240.021021664')\n",
      "('Epoch:', '0053', 'cost', '240.021021724')\n",
      "('Epoch:', '0054', 'cost', '240.021022260')\n",
      "('Epoch:', '0055', 'cost', '240.021021664')\n",
      "('Epoch:', '0056', 'cost', '240.021021724')\n",
      "('Epoch:', '0057', 'cost', '240.021022260')\n",
      "('Epoch:', '0058', 'cost', '240.021021664')\n",
      "('Epoch:', '0059', 'cost', '240.021021724')\n",
      "('Epoch:', '0060', 'cost', '240.021022260')\n",
      "('Epoch:', '0061', 'cost', '240.021021664')\n",
      "('Epoch:', '0062', 'cost', '240.021021724')\n",
      "('Epoch:', '0063', 'cost', '240.021022260')\n",
      "('Epoch:', '0064', 'cost', '240.021021664')\n",
      "('Epoch:', '0065', 'cost', '240.021021724')\n",
      "('Epoch:', '0066', 'cost', '240.021022260')\n",
      "('Epoch:', '0067', 'cost', '240.021021664')\n",
      "('Epoch:', '0068', 'cost', '240.021021724')\n",
      "('Epoch:', '0069', 'cost', '240.021022260')\n",
      "('Epoch:', '0070', 'cost', '240.021021664')\n",
      "('Epoch:', '0071', 'cost', '240.021021724')\n",
      "('Epoch:', '0072', 'cost', '240.021022260')\n",
      "('Epoch:', '0073', 'cost', '240.021021664')\n",
      "('Epoch:', '0074', 'cost', '240.021021724')\n",
      "('Epoch:', '0075', 'cost', '240.021022260')\n",
      "('Epoch:', '0076', 'cost', '240.021021664')\n",
      "('Epoch:', '0077', 'cost', '240.021021724')\n",
      "('Epoch:', '0078', 'cost', '240.021022260')\n",
      "('Epoch:', '0079', 'cost', '240.021021664')\n",
      "('Epoch:', '0080', 'cost', '240.021021724')\n",
      "('Epoch:', '0081', 'cost', '240.021022260')\n",
      "('Epoch:', '0082', 'cost', '240.021021664')\n",
      "('Epoch:', '0083', 'cost', '240.021021724')\n",
      "('Epoch:', '0084', 'cost', '240.021022260')\n",
      "('Epoch:', '0085', 'cost', '240.021021664')\n",
      "('Epoch:', '0086', 'cost', '240.021021724')\n",
      "('Epoch:', '0087', 'cost', '240.021022260')\n",
      "('Epoch:', '0088', 'cost', '240.021021664')\n",
      "('Epoch:', '0089', 'cost', '240.021021724')\n",
      "('Epoch:', '0090', 'cost', '240.021022260')\n",
      "('Epoch:', '0091', 'cost', '240.021021664')\n",
      "('Epoch:', '0092', 'cost', '240.021021724')\n",
      "('Epoch:', '0093', 'cost', '240.021022260')\n",
      "('Epoch:', '0094', 'cost', '240.021021664')\n",
      "('Epoch:', '0095', 'cost', '240.021021724')\n",
      "('Epoch:', '0096', 'cost', '240.021022260')\n",
      "('Epoch:', '0097', 'cost', '240.021021664')\n",
      "('Epoch:', '0098', 'cost', '240.021021724')\n",
      "('Epoch:', '0099', 'cost', '240.021022260')\n",
      "('Epoch:', '0100', 'cost', '240.021021664')\n",
      "Finished optimization!\n"
     ]
    }
   ],
   "source": [
    "for i in range(100):\n",
    "    average_cost = 0\n",
    "    number_of_bathes = int(len(X_train) / batch_size)\n",
    "    for start, end in zip(range(0, len(X_train), batch_size), range(batch_size, len(X_train), batch_size)):\n",
    "        sess.run(optimizer, feed_dict={x: X_train[start:end], y: y_train[start:end]})\n",
    "        average_cost += sess.run(cost, feed_dict = {x: X_train[start:end], y: y_train[start:end]})\n",
    "    print(\"Epoch:\", '%04d' % (i+1), 'cost', \"{:.9f}\".format(average_cost))\n",
    "print(\"Finished optimization!\")\n",
    "    "
   ]
  },
  {
   "cell_type": "code",
   "execution_count": 12,
   "metadata": {
    "collapsed": true
   },
   "outputs": [],
   "source": [
    "correct_prediction = tf.equal(tf.argmax(pred, 1), tf.argmax(y_test, 1))"
   ]
  },
  {
   "cell_type": "code",
   "execution_count": 13,
   "metadata": {
    "collapsed": false
   },
   "outputs": [
    {
     "name": "stdout",
     "output_type": "stream",
     "text": [
      "Accuracy: 0.503384590149\n"
     ]
    }
   ],
   "source": [
    "accuracy = tf.reduce_mean(tf.cast(correct_prediction, \"float\"))\n",
    "print('Accuracy: {0}'.format(sess.run(accuracy, feed_dict={x:X_test, y: y_test})))"
   ]
  },
  {
   "cell_type": "code",
   "execution_count": null,
   "metadata": {
    "collapsed": false
   },
   "outputs": [],
   "source": []
  },
  {
   "cell_type": "code",
   "execution_count": null,
   "metadata": {
    "collapsed": true
   },
   "outputs": [],
   "source": []
  }
 ],
 "metadata": {
  "kernelspec": {
   "display_name": "Python 2",
   "language": "python",
   "name": "python2"
  },
  "language_info": {
   "codemirror_mode": {
    "name": "ipython",
    "version": 2
   },
   "file_extension": ".py",
   "mimetype": "text/x-python",
   "name": "python",
   "nbconvert_exporter": "python",
   "pygments_lexer": "ipython2",
   "version": "2.7.11"
  }
 },
 "nbformat": 4,
 "nbformat_minor": 0
}
